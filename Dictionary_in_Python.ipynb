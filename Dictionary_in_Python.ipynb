{
  "nbformat": 4,
  "nbformat_minor": 0,
  "metadata": {
    "colab": {
      "provenance": []
    },
    "kernelspec": {
      "name": "python3",
      "display_name": "Python 3"
    },
    "language_info": {
      "name": "python"
    }
  },
  "cells": [
    {
      "cell_type": "markdown",
      "source": [
        "*It is datatype in python that cantain key and value*\n",
        "\n",
        "\n",
        "\n"
      ],
      "metadata": {
        "id": "M9U5klzFA8dx"
      }
    },
    {
      "cell_type": "code",
      "source": [
        "Dict1={1:\"Riya\",2:\"Nitya\",3:\"sanya\"}\n",
        "Dict2={\"R\":\"key\",\"S\":\"Lock\",\"N\":\"Slap\"}\n",
        "\n",
        "# you can insert list, dictionary,Tuple,list  inside the dict\n",
        "\n",
        "Dict3={1:{\"Riya\":\"priya\",\"Nitya\":\"Suru\",\"Punam\":\"Khusboo\"},2:[\"S\",\"Y\",\"Z\"],3:(3,4,5),4:\"cgxsjfefrvvfnv\"}"
      ],
      "metadata": {
        "id": "IJMuIxyuBE9d"
      },
      "execution_count": 2,
      "outputs": []
    },
    {
      "cell_type": "markdown",
      "source": [
        "we can fatch value of key using key and get method\n"
      ],
      "metadata": {
        "id": "LSBL-H3KDcgY"
      }
    },
    {
      "cell_type": "code",
      "source": [
        "print(Dict1[1])\n",
        "print(Dict2[\"R\"])\n",
        "print(Dict3[2])"
      ],
      "metadata": {
        "colab": {
          "base_uri": "https://localhost:8080/"
        },
        "id": "Ntbo_ycQEWBB",
        "outputId": "8c0bab20-2999-4932-8368-81ec2607c5bc"
      },
      "execution_count": 3,
      "outputs": [
        {
          "output_type": "stream",
          "name": "stdout",
          "text": [
            "Riya\n",
            "key\n",
            "['S', 'Y', 'Z']\n"
          ]
        }
      ]
    },
    {
      "cell_type": "code",
      "source": [
        "# fatching data using get method\n",
        "print(Dict1.get(3))\n",
        "print(Dict2.get(\"S\"))\n",
        "print(Dict2.get(\"N\",\"Not found\"))\n",
        "print(Dict3.get(\"6\",\"Not found\"))"
      ],
      "metadata": {
        "colab": {
          "base_uri": "https://localhost:8080/"
        },
        "id": "Kf-b2673Ebdb",
        "outputId": "0dc80a88-af65-47a6-c828-89ae94522e2b"
      },
      "execution_count": 5,
      "outputs": [
        {
          "output_type": "stream",
          "name": "stdout",
          "text": [
            "sanya\n",
            "Lock\n",
            "Slap\n",
            "Not found\n"
          ]
        }
      ]
    },
    {
      "cell_type": "markdown",
      "source": [
        "get method gives none when key is not found in the dictionary:\n",
        "Example:->"
      ],
      "metadata": {
        "id": "nG1WzaZnIzYr"
      }
    },
    {
      "cell_type": "code",
      "source": [
        "print(Dict1.get(5))"
      ],
      "metadata": {
        "colab": {
          "base_uri": "https://localhost:8080/"
        },
        "id": "HWrsW1frI_2Q",
        "outputId": "14ab0e62-6844-4ea9-a9c6-242751034334"
      },
      "execution_count": 6,
      "outputs": [
        {
          "output_type": "stream",
          "name": "stdout",
          "text": [
            "None\n"
          ]
        }
      ]
    },
    {
      "cell_type": "markdown",
      "source": [
        "when you want to Seprate Dictionary key and value in saperate list"
      ],
      "metadata": {
        "id": "Cs_TBngaJq-n"
      }
    },
    {
      "cell_type": "code",
      "source": [
        "Dct1={1:\"Riya\",2:\"Nitya\",4:\"Sima\",6:\"Poonam\",8:\"Puspa\"}\n",
        "listkey=Dct1.keys()\n",
        "listvalue=Dct1.values()\n",
        "print(listkey)\n",
        "print(listvalue)"
      ],
      "metadata": {
        "colab": {
          "base_uri": "https://localhost:8080/"
        },
        "id": "Gv-tD5EKJ5rc",
        "outputId": "b5415b2a-ada9-4d8d-b806-b8bdee1b0dde"
      },
      "execution_count": 9,
      "outputs": [
        {
          "output_type": "stream",
          "name": "stdout",
          "text": [
            "dict_keys([1, 2, 4, 6, 8])\n",
            "dict_values(['Riya', 'Nitya', 'Sima', 'Poonam', 'Puspa'])\n"
          ]
        }
      ]
    },
    {
      "cell_type": "markdown",
      "source": [
        "we can also make dict using two list"
      ],
      "metadata": {
        "id": "YCfWZVBpLm9p"
      }
    },
    {
      "cell_type": "code",
      "source": [
        "data=dict(zip(listkey,listvalue))\n",
        "print(data)"
      ],
      "metadata": {
        "colab": {
          "base_uri": "https://localhost:8080/"
        },
        "id": "DUIGC9XYJdIG",
        "outputId": "3c3aee39-6b8f-412d-98e0-2a12fe68361d"
      },
      "execution_count": 11,
      "outputs": [
        {
          "output_type": "stream",
          "name": "stdout",
          "text": [
            "{1: 'Riya', 2: 'Nitya', 4: 'Sima', 6: 'Poonam', 8: 'Puspa'}\n"
          ]
        }
      ]
    },
    {
      "cell_type": "markdown",
      "source": [
        "Inserting and deleting values from Dictionary"
      ],
      "metadata": {
        "id": "rzAYF7SqMY4c"
      }
    },
    {
      "cell_type": "code",
      "source": [
        "dct2={\"A\":112,\"B\":123,\"C\":124,\"D\":125}\n",
        "dct2[\"E\"]=126     #insertion of key E\n",
        "dct2.update({\"F\":127})   #insertion\n",
        "print(dct2)\n",
        "\n",
        "del dct2[\"A\"]     #deletion of key A\n",
        "dct2"
      ],
      "metadata": {
        "colab": {
          "base_uri": "https://localhost:8080/"
        },
        "id": "FBzQzIs0MkPN",
        "outputId": "0e88fdc2-26fd-4c24-c2db-5caab0eb78f9"
      },
      "execution_count": 17,
      "outputs": [
        {
          "output_type": "stream",
          "name": "stdout",
          "text": [
            "{'A': 112, 'B': 123, 'C': 124, 'D': 125, 'E': 126, 'F': 127}\n"
          ]
        },
        {
          "output_type": "execute_result",
          "data": {
            "text/plain": [
              "{'B': 123, 'C': 124, 'D': 125, 'E': 126, 'F': 127}"
            ]
          },
          "metadata": {},
          "execution_count": 17
        }
      ]
    },
    {
      "cell_type": "markdown",
      "source": [
        "Copy funtion in dict"
      ],
      "metadata": {
        "id": "c9shm-9UOqaj"
      }
    },
    {
      "cell_type": "code",
      "source": [
        "D2={1:\"aaa\",2:\"bbb\",3:\"ccc\"}\n",
        "D3=D2\n",
        "del D3[1]\n",
        "print(D2)\n",
        "#here we cange D3 but cange is also visible in D2 so both dict is connected after copying eachother"
      ],
      "metadata": {
        "colab": {
          "base_uri": "https://localhost:8080/"
        },
        "id": "-vkMMqwqNaLs",
        "outputId": "1043c8d7-a5f8-4c97-9ff8-4fa334635dfb"
      },
      "execution_count": 18,
      "outputs": [
        {
          "output_type": "stream",
          "name": "stdout",
          "text": [
            "{2: 'bbb', 3: 'ccc'}\n"
          ]
        }
      ]
    },
    {
      "cell_type": "code",
      "source": [
        "D3={1:\"aaa\",2:\"bbb\",3:\"ccc\"}\n",
        "D4=D3.copy()\n",
        "del D4[1]\n",
        "D3\n",
        "#here we can see that after deleting key from D4 it not effect D3"
      ],
      "metadata": {
        "colab": {
          "base_uri": "https://localhost:8080/"
        },
        "id": "aC5gbW7zPKF_",
        "outputId": "768f3cb2-8df7-4927-d616-bc86cf0ad6e7"
      },
      "execution_count": 19,
      "outputs": [
        {
          "output_type": "execute_result",
          "data": {
            "text/plain": [
              "{1: 'aaa', 2: 'bbb', 3: 'ccc'}"
            ]
          },
          "metadata": {},
          "execution_count": 19
        }
      ]
    },
    {
      "cell_type": "markdown",
      "source": [
        "# **Some Coding Questions related to the Dictionary**"
      ],
      "metadata": {
        "id": "O7kEaygfQyvg"
      }
    },
    {
      "cell_type": "markdown",
      "source": [
        "Q:-Write a  Python script to sort (ascending and descending) a dictionary by value."
      ],
      "metadata": {
        "id": "SQaEZqKMUKH-"
      }
    },
    {
      "cell_type": "code",
      "source": [
        "dict1={\"R\":1,\"P\":3,\"S\":2,\"F\":11,\"Y\":9}\n",
        "lstkey=list(dict1.keys())\n",
        "lstvlu=list(dict1.values())\n",
        "lst_sortky=[]\n",
        "lst_sortvl=sorted(lstvlu)\n",
        "for i in range(len(lst_sortvl)):\n",
        "  xyz=lstvlu.index(lst_sortvl[i])\n",
        "  lst_sortky.append(lstkey[xyz])\n",
        "dict1_sort=dict(zip(lst_sortky,lst_sortvl))\n",
        "print(dict1_sort)\n",
        "\n",
        "\n"
      ],
      "metadata": {
        "colab": {
          "base_uri": "https://localhost:8080/"
        },
        "id": "thb5_Z8OQ_We",
        "outputId": "b0b5cec9-8e94-47c4-cfca-c3e08226dce5"
      },
      "execution_count": 33,
      "outputs": [
        {
          "output_type": "stream",
          "name": "stdout",
          "text": [
            "{'R': 1, 'S': 2, 'P': 3, 'Y': 9, 'F': 11}\n"
          ]
        }
      ]
    },
    {
      "cell_type": "markdown",
      "source": [
        "Q:-Write a  Python script to concatenate the following dictionaries to create a new one.\n",
        "\n",
        "Sample Dictionary :\n",
        "dic1={1:10, 2:20}\n",
        "dic2={3:30, 4:40}\n",
        "dic3={5:50,6:60}\n",
        "Expected Result : {1: 10, 2: 20, 3: 30, 4: 40, 5: 50, 6: 60}"
      ],
      "metadata": {
        "id": "bFe76eFDqnFA"
      }
    },
    {
      "cell_type": "code",
      "source": [
        "dic1={1:10, 2:20}\n",
        "dic2={3:30, 4:40}\n",
        "dic3={5:50,6:60}\n",
        "dic4={}\n",
        "for i in (dic1,dic2,dic3):\n",
        "  dic4.update(i)\n",
        "print(dic4)\n",
        "\n",
        "\n"
      ],
      "metadata": {
        "colab": {
          "base_uri": "https://localhost:8080/"
        },
        "id": "Kn66HUiGtRtk",
        "outputId": "004efb77-e31e-41b3-ba60-cdc3c72a8db2"
      },
      "execution_count": 38,
      "outputs": [
        {
          "output_type": "stream",
          "name": "stdout",
          "text": [
            "{1: 10, 2: 20, 3: 30, 4: 40, 5: 50, 6: 60}\n"
          ]
        }
      ]
    },
    {
      "cell_type": "markdown",
      "source": [
        "Q:- Write a Python script to check whether a given key already exists in a dictionary."
      ],
      "metadata": {
        "id": "vT7UTV6Ku0yJ"
      }
    },
    {
      "cell_type": "code",
      "source": [
        "dict6={\"R\":123,\"P\":124,\"S\":125,\"T\":126,\"U\":127}\n",
        "key_vlu=list(dict6.keys())\n",
        "xyz=input(\"Enter key name\")\n",
        "if xyz in key_vlu:\n",
        "  print(\"YES\")\n",
        "else:\n",
        "  print(\"NO\")"
      ],
      "metadata": {
        "colab": {
          "base_uri": "https://localhost:8080/"
        },
        "id": "9FDJoLGpu2hp",
        "outputId": "70b5c85e-1776-4ba9-caa1-8fcbe4c6fc94"
      },
      "execution_count": 40,
      "outputs": [
        {
          "output_type": "stream",
          "name": "stdout",
          "text": [
            "Enter key nameT\n",
            "YES\n"
          ]
        }
      ]
    },
    {
      "cell_type": "markdown",
      "source": [
        " Q:-Write a Python program to iterate over dictionaries using for loops."
      ],
      "metadata": {
        "id": "Su0yldgIz5Gu"
      }
    },
    {
      "cell_type": "code",
      "source": [
        "dict7={\"R\":123,\"P\":124,\"S\":125,\"T\":126,\"U\":127}\n",
        "for i,j in dict7.items():\n",
        "  print(i,j)\n"
      ],
      "metadata": {
        "colab": {
          "base_uri": "https://localhost:8080/"
        },
        "id": "26_gmcnVz4KF",
        "outputId": "187d55f8-da51-4176-c530-3e25c1f9b364"
      },
      "execution_count": 43,
      "outputs": [
        {
          "output_type": "stream",
          "name": "stdout",
          "text": [
            "R 123\n",
            "P 124\n",
            "S 125\n",
            "T 126\n",
            "U 127\n"
          ]
        }
      ]
    }
  ]
}