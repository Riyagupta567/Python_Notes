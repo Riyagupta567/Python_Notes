{
  "nbformat": 4,
  "nbformat_minor": 0,
  "metadata": {
    "colab": {
      "provenance": []
    },
    "kernelspec": {
      "name": "python3",
      "display_name": "Python 3"
    },
    "language_info": {
      "name": "python"
    }
  },
  "cells": [
    {
      "cell_type": "markdown",
      "source": [
        "# **List**\n",
        "\n",
        "List are use to store multiple item in single variable. you can store different data type in same list\n",
        "\n",
        "list1=[\"Riya\",234,(1,2,3),[1,2,\"A\"],{\"R\":1,\"N\":2}]\n",
        "\n",
        "**Python_indexing**\n",
        "\n",
        "\n",
        "![indexing_in_python.png](data:image/png;base64,iVBORw0KGgoAAAANSUhEUgAAAaUAAAB4CAMAAABl2x3ZAAACXlBMVEX////i4uKjo6Nqamq1tbUAAAB/f3/U1NQ+Pj5dXV2MjIzJyclFRUXl5eVlZWV1dXXb29uGhoatra339/fv7+9UVFQAfwD///v6//8AewD///b/+Ni7u7sAhAD0//8AACi0uF3/4bcAXAD67txLZQCGytpEAAAigAD/+OzW+v8AVQAATwCDdwBOnKun0eUqTYwASHpGdqKNu9nh7OGKpT0AgilzlgDC6POs1/xbcQf//OI1XAAASQDk//8Ab3B7hB7//+sAADc6AAAANXEyABrInHCecjdWKQgAAA0xAADJ0tseHh4qoIW31LWX1t+0uF7s39EbAAC0iE4AAEmYYS4kbiBpqaTMy6bR5/98u9M9gFdYiVdRgz3Px5MAYBVjbACWtrtReRnC2dk7chtvssRWoaL147ORijh5qrKpmDh2fggAfH8Ab0o/agAAg5KctZuRqnPMvHATdmbszJIAUTYAYivYuncjdTkAXy3/6cyqnkwAXVmNfwAAcHnDu37Qz6BUgmh8hztyoYyFjTi7qE8AOwBoSTB3m8A/Jj0AABysjWfiw6AiKUNuQx5vk6yIZz9DXZQiW4RaOzg5JQDOso8KKG2BPQCti3WNdlBWPhWkbyVvMwBEU2CassgAJU7kuYhkfJFKJBQ7Z4q3tZkOJ3NmkL8AAFhSFABqOwBNRypaDgCSe3AGFyc7N1wfDR83OCkXPVyzgDhlmjo6m2JSjQAVlF8Ahjx2qV15s3oAmIpdt7lttJ1mrIAsnXKPvIJ7oFVtnCYAnpparZh+eZOzeVAXcKh6UAAAOWNYRlUqFAC1pgUCAAAM70lEQVR4nO2dj38T5RnA3yAvbW1jsT9yaUICSSg9UhtK0jZtaCEtpkBKJQ2VpmygVolTRIEORsAVNxyuDSUwqjAQg4iCG1NGS1sFJzKF+V/tvajNe8n7nCxNkQ97vh8/An16d8+933t/5O4+TwhBEARBEARBEARBEARBkIcSm/3ZZ5/dYvzhH1JfxLerX/Bbjpbq9D98LapfearOOIf5IQo259Zf/dpZ7bES4qnYtt3lW9Uve1izmzzs/yZPuUevOHAsrZbY35WA7HEs7WcRvbIBkfXGvgHiscrKDmRPhaz/pU/okcRW6yX+57Y8V0fMrc+/YLcPLN36ovMlIh+x23dYo61b7U4XSVkyO7fuqu0n5qX2rfZ+/8t2+2+MrxyqeHUn60umV197wbnD6l9j37rr9V/6hB5JbM4tb+yu7d+zt23wt22D+7zmVTvInkPGt/e2mVf1R5390hql3RVL9jpycDV5Za/RZu/ff4iY90V8q363z6tYWrPauP9AhP3na0FLc4HN7qyt3WGNbfcerCPb9kWYG7L/kOmpOkLerIvWNpOXZyy5yJ7Vcksd8S2tPmhvbW2tJvud/SRlqY5ED3gP7jRKL6OlucBW2yyVs3XDUztaXGlL1ldeV5o/25KfCfHtqj74e7YJkdY4d1rTlt7eaTShpTnB1tqc+nO//VAbiTqV1YNiaXD7wGGnS23JzSyRPQe8Q87+wVrX4be8gwfe2PXSjKVIlP3QjpbmAps9kvoztpSNcfIf7ANsmT202ipts29/hkTtzeRgylJLtflFFxnaaWTrhj++wH7Fvu8Z/3MvkaHXlr9ZZzrCLL0WYT/ccgQtzSVRu2u2uwi90Sa9WpePZBAxb/9ph3W2+3C0tLbujeQjG0SMVJ6HGwhSeT72giAIgiAIgiAIgiAIgiAIgiDIQ4TjKH0HDMb+DD2rkwJ0GIyN0Hr46VH8GPRMKLaOUjcQc4zS48A+k5R2tQO5sFQWQ4eTE3Ql8ORj5ISVxL8/1iyKBU4aiZQQbun4i1vZ6z0vcMSckXpXxqgwG0b8FGgiTl1j7UA28cXB0ZXQAX3LoM1I8l2PvgKIvfdxqAhobnmhvvMeEIu3B0fWAioC9aF1wgtU6qQnrOYed+DdtuyDnaYnrY4zQr+xv7KL7Gy9LnFSfMDcMXe4yV2oM5278DRkKRQ02oaB5g4F5d6PoQN2vn8VurjDi0vPQ2nS50vhR/AxCsXGPvAG6sWWTCzHcL0okqxPrLAmN7fFOrIzjW8+U28N1Av70t0LH7pJcZAE1oKZ5ohjA7MENakuBlpiZ3kFHNakXgqZiF8KfQbE/OcufgSNeDF68aP14NPz8Enoma3pHIVGCqnzO2n0kugUQtZwypKjI3tTmSmyhoydIks6eZ2SfmwDPIXkiKYlomHJf+UDjXcOAp+IDTouXzg9DE0wRGlvccxGm/1XoJP3LYNmMxK4Z00CqbBc6KdrxbGUJavIkjJQMkFCS8ShWIr3nICyyRn/uXekv4EnCVuSE9eyB+0fYU3NzlG82d9Li+gFccxUHCG9wHzu63H7LkNp2tYvB1OptybbgURDQdbYwGYrrGyntvWiIf1nLMU2gFPyLBi7Cl1QjFgPZClJr1b+A5iXYqcKP9NYN0Ijlylx9dN2qH8GPvv8GuQC6riM0KnCHmikiNOSa8Dh/sma5Oyx74VbBpTmOiu2xC6ku7Sw5CKUTu6EiqF1Fbv0wViomAE1joNNoRr7LAciUnExPIgWgEdTOgVIqDgIvmcUAg/H1kasa4u3TB1NfEipWC8p7aKRD4IgCIIgCIIgCIL8XzDv4aHsl04gjVYquaZZMAtLhYvmQ8yDY4seL4JjpQvgWMk8ONYFZqKdSqVGKqVwrPJxjVTKwFTKckxlwbzZWIJD+sfgWPHjcKxsPhwr1cGxEjhUUQTHCrRSKYNjCxbmlEp5pUYqC+DYormy9AQc07I0T8uSRtNopKJlqfhJOKZpSWMIKoHuArNUcrQ0Hy1BoCUQtCQCLYGgJRC0JAItgTyKliRPqqTjT+TBEtujOnb/ljwe7gl+XizJql3mw1KqzCXHg7DUd91QZRhPv2aSB0vmqo3q87hvS9tqLF+mr5g8WJJ311RVNd5M7zMPlpZUqV/KeQCWogbDze7dhsaZA+fDUk2OlqSGRv41odlbkpoMX3V3T1R9ORPLhyXDg7YkNaX89A3MhFSWHN3dfHurLDm6B/hYhiUWTcd4S2yXXERt6fCE4SanSWVJVm/HW5L6Bvq6uXfu0pYGDXeUTblEVZb61KnwltjheBeZlvq4duEtSX3qFsuPJdagGW8z8ZailvHrjVyyvKUhy62JG1yTqizdkZsmue04S9GaW1OW9KWttjRUYxnn3r3iLbFUVNvxluQmy/hNrm1mLEmbDJkvp3KW5IbJqZo7XIyzZL49OWV4hktFbWmI6528JVPD5PTEDe7M82MpamCWtk1Ojc9kxFkyNW0k/qYv0ptxlmITXzIbXK4qS+PXeUm8pT0GV/nQLc4ub8nU0Mi/hspZkpvYILqJmxDUliZV71OmLS0xRIj/66mptEPO0mBVM9nGj16cpSWTEbKEuwjV89K06jrjLDkmvijvm+Ls5rEvDVksBpEl38Tk9PTEZLrhOEvRmvHpKQs3/6gsWSxf8f1e1ZcMjbf4cSbDEjAvRZWL12ZIl4JXW9qoOrv0iLfJ4GJnYeHy5Cxtstyavs53Cs5Sk+HW9O2qdHPzljZZLBZOBG9JbjAYVN06T6uHptT1GQUssamXH2dVlu6w0ABgafJfXIOq5yW5+2sLP5bcn6VUt42Clrj+TrLnJdIEWNrSrZrs0pbYdK2cubgvMbu3b3AmVKuHvt01Fi6bvK3xLGyNJ+5LUsMNq3nim/RmnCXHxEZiq4JGvDtkCd/eaUuSsozdU/U/W5KabkRU0fuzRBqUNd5tg9BStKpavarm+tKmKhdpgkY8gzcKzEvKz/0TX6Sn+vx+XhqY2TG/eohdZ0MXsHqIsoHkDndFZXxeMtd8k86V60uOry2WRn5MUFuqglbiSir8tHyfllKflyZvCtd4EhvpG/mhi7MkszT5qTXz8xJvl+9Lh9lgP5731QPRvvcgq0LqlXhGLPPeAx/lRzxJfS8gMxV+l6qVOIvxH2dUK/GMex33fe8hIxV+Jc72yc+smfce+PsPqhFPVqeJ9/FAHsX7eBmgJWEqaAkCLYGgJWEqaAkCLYGgJWEqaAkCLYFUaLw1qfmq4iI49oDfmpyvccE8mf+3JhdqXDCze2vyMZCiLjhWqbFdYQkc6yqCYxQOPZFjKiVaqVRqpPJEbqloxIpmY0mve2jQSuUBpzkXqcBFGhAEQRAEQRAEQZB8IBVUpKrIiWImpSYdUO5NUmKyuGidQ6O8HNsGrljngGMFWnXnNAryyWw7+LMlXFpP1qhyBzTXz+1yFoxRt1IcUlSY2DQy7CWB9SWiYt3SGG0m8ggV1X+MXVlrJZ3HTglLNZpGC8U1HBnmy9e+f0esSUqUlPRANadjn5cMQ+VCk7SyEKrETWLLvgMi8t1jPVC9zHhHCRgjoQ+hXc6CMF3vJuETogq7Uidt98rn3KQ3+7imM5Q2ywk6LLAU20CVsqdeGxVVDLUtXj4odMtILrYm4Zq9SlFtMZ0rpQLoCg5rNJopQaFovL0tDFVK7VxJklAs3kPnoG7rmaBSt1cSVXCXF4QWKz/1n8s26Pu3p6M5djwuau+4+8dCz8tE13B8c1usB7i4HesujIL1mKXOFVDoSiFdC4hnIugKqA5w4P0E7DD+NFh0OFW1Vxw4HezNs6VQWVnkh+rKpo9OuTNj88vZde9V+v67y7O2sxLzhmalgHRGyLSoLJgqIRwXluNmew11HE8IS3wrsaPHR0UjnlRcdp51UaFb5YjvrRT1d5Z6WVlwXsS0TmTewQ7XvvxboSWWipXEj4oq6EqhsvNGEhCWmWepnCck35aSytdKKJZC2fXkw8r3QyiW5LuXMrtZgLKxTGzJ10Hrf7JkzrbEjtgcK31e2MnCtP3MJXZI0QTZSy8Zk4LvM1COuIzWs+H6W1GV/SiliqCzonaLU3qNMkQTTJgOB4MkNixOZXN5YL2wNLTvMl2Rf0uyTleesnT23sJExr4rdDqjYkkKD7v0+qztjIAlSafTpyz5etyBzVnNyraM/cc19omovSt0+jEaGRHNS5JepxP3llSsIrC2QDhSsmxCR8+HekRDl6w8jvAkTooe0Mo6fZy6AvdEo2gqzeN60YNNloo+/5ZS/Pg9JxdFq1XbZq/vchcVzodmpUOwpYBon+HUV65cFc8+Iz3gl8aYTtMPoALm/lG4RDmbfC5Cj8P7NlBg2ciQvgWbNEChYuNSb1cXvQc+fod3iSAIgiAIgiAIgiAIgiAIgiAIgiAIgiAIgiAPkP8C+h3kHjyOIDgAAAAASUVORK5CYII=)"
      ],
      "metadata": {
        "id": "llCBnpnjOyqg"
      }
    },
    {
      "cell_type": "code",
      "source": [
        "#fatching Element with help of indexing\n",
        "\n",
        "name=[25,12,36,95,14,55]\n",
        "print(name[0])\n",
        "print(name[4])\n",
        "print(name[-1])\n",
        "print(name[-5])\n"
      ],
      "metadata": {
        "colab": {
          "base_uri": "https://localhost:8080/"
        },
        "id": "FrVDZy6NUBZl",
        "outputId": "cbf07ede-da50-444f-b5b0-97c1e5cab81c"
      },
      "execution_count": null,
      "outputs": [
        {
          "output_type": "stream",
          "name": "stdout",
          "text": [
            "25\n",
            "14\n",
            "55\n",
            "12\n"
          ]
        }
      ]
    },
    {
      "cell_type": "markdown",
      "source": [
        "**Some funtions in list**"
      ],
      "metadata": {
        "id": "tGBJPWMBYI9U"
      }
    },
    {
      "cell_type": "markdown",
      "source": [
        "Adding element in list"
      ],
      "metadata": {
        "id": "yC3PZBPv6XsK"
      }
    },
    {
      "cell_type": "code",
      "source": [
        "list23=[1,2,3,4,5,6]\n",
        "list23.append(7)              # it add element at the end of list\n",
        "print(list23)"
      ],
      "metadata": {
        "colab": {
          "base_uri": "https://localhost:8080/"
        },
        "id": "TwJCuarU6PlA",
        "outputId": "7153abca-ac01-4e8e-d08f-3bf6850093e7"
      },
      "execution_count": null,
      "outputs": [
        {
          "output_type": "stream",
          "name": "stdout",
          "text": [
            "[1, 2, 3, 4, 5, 6, 7]\n"
          ]
        }
      ]
    },
    {
      "cell_type": "code",
      "source": [
        "list33=[11,12,14,15]\n",
        "list33.insert(2,13)          # add element according to index\n",
        "print(list33)"
      ],
      "metadata": {
        "colab": {
          "base_uri": "https://localhost:8080/"
        },
        "id": "OVStFArg7biX",
        "outputId": "c3e3e98f-8cdd-4a8c-ad65-ab1881523efd"
      },
      "execution_count": null,
      "outputs": [
        {
          "output_type": "stream",
          "name": "stdout",
          "text": [
            "[11, 12, 13, 14, 15]\n"
          ]
        }
      ]
    },
    {
      "cell_type": "code",
      "source": [
        "list34=[22,23,45,11]\n",
        "list34.extend([36,12,90])    #we can merge two list\n",
        "print(list34)"
      ],
      "metadata": {
        "id": "7pXARN-VYOA3",
        "colab": {
          "base_uri": "https://localhost:8080/"
        },
        "outputId": "5ebc45a1-998d-44a9-dd68-6584517f2a39"
      },
      "execution_count": null,
      "outputs": [
        {
          "output_type": "stream",
          "name": "stdout",
          "text": [
            "[22, 23, 45, 11, 36, 12, 90]\n"
          ]
        }
      ]
    },
    {
      "cell_type": "markdown",
      "source": [
        "Removing element from list"
      ],
      "metadata": {
        "id": "_FPVLfODqjRo"
      }
    },
    {
      "cell_type": "code",
      "source": [
        "list19=[1,2,3,4,5,6,7]\n",
        "list19.remove(4)\n",
        "print(list19)"
      ],
      "metadata": {
        "colab": {
          "base_uri": "https://localhost:8080/"
        },
        "id": "tmpW0bBBqnZB",
        "outputId": "7542d148-cff1-47c1-a6c0-df6a516d1efa"
      },
      "execution_count": null,
      "outputs": [
        {
          "output_type": "stream",
          "name": "stdout",
          "text": [
            "[1, 2, 3, 5, 6, 7]\n"
          ]
        }
      ]
    },
    {
      "cell_type": "code",
      "source": [
        "list10=[1,8,90,23,11]\n",
        "list10.pop()            #remove element from last index\n",
        "list10.pop(2)           #remove element from index 2"
      ],
      "metadata": {
        "colab": {
          "base_uri": "https://localhost:8080/"
        },
        "id": "GbDO8_rUrAnK",
        "outputId": "a8e60f28-0028-4f74-9ee9-95d193baeea5"
      },
      "execution_count": null,
      "outputs": [
        {
          "output_type": "execute_result",
          "data": {
            "text/plain": [
              "90"
            ]
          },
          "metadata": {},
          "execution_count": 6
        }
      ]
    },
    {
      "cell_type": "code",
      "source": [
        "lst=[\"R\",\"S\",\"T\",\"P\",\"A\"]\n",
        "lst.clear()              #its clear all element from list\n",
        "lst"
      ],
      "metadata": {
        "colab": {
          "base_uri": "https://localhost:8080/"
        },
        "id": "stgsSPQwr6vM",
        "outputId": "74661ca5-5100-4477-cae5-00f5eb2ec6ec"
      },
      "execution_count": null,
      "outputs": [
        {
          "output_type": "execute_result",
          "data": {
            "text/plain": [
              "[]"
            ]
          },
          "metadata": {},
          "execution_count": 8
        }
      ]
    },
    {
      "cell_type": "markdown",
      "source": [
        "some extra funtions"
      ],
      "metadata": {
        "id": "xm4hk2hYtD_m"
      }
    },
    {
      "cell_type": "code",
      "source": [
        "lst1=[12,13,16,14,15,16,16,17]\n",
        "print(lst1.index(13))         # Return index of element\n",
        "print(lst1.count(16))         #return count of the element\n"
      ],
      "metadata": {
        "colab": {
          "base_uri": "https://localhost:8080/"
        },
        "id": "bhOVCOpEtHf8",
        "outputId": "ac9f11b6-6928-40ee-a1f1-b79bab4a744f"
      },
      "execution_count": null,
      "outputs": [
        {
          "output_type": "stream",
          "name": "stdout",
          "text": [
            "1\n",
            "3\n",
            "None\n"
          ]
        }
      ]
    },
    {
      "cell_type": "code",
      "source": [
        "lst2=[1,2,3,4]\n",
        "lst2.reverse()\n",
        "print(lst2)\n",
        "\n",
        "lst2.sort()\n",
        "print(lst2)\n",
        "\n",
        "print(min(lst2))           #It gives minimum of list\n",
        "print(max(lst2))           #It give maximum of list\n",
        "print(sum(lst2))           #it give sum of list"
      ],
      "metadata": {
        "colab": {
          "base_uri": "https://localhost:8080/"
        },
        "id": "oY-apTYmutCp",
        "outputId": "a4f097a3-5e36-4f56-f94d-28af9e2cb933"
      },
      "execution_count": null,
      "outputs": [
        {
          "output_type": "stream",
          "name": "stdout",
          "text": [
            "[4, 3, 2, 1]\n",
            "[1, 2, 3, 4]\n",
            "1\n",
            "4\n",
            "10\n"
          ]
        }
      ]
    },
    {
      "cell_type": "markdown",
      "source": [
        "**Slicing in list**\n",
        "\n",
        "List[start:stop:step]"
      ],
      "metadata": {
        "id": "9MVz06C-vG6T"
      }
    },
    {
      "cell_type": "code",
      "source": [
        "list123=[1,2,3,4,5,6,7,8,9,0]\n",
        "print(list123[0:4])             #here 4th index is always excluded\n",
        "\n",
        "print(list123[1:])\n",
        "\n",
        "print(list123[:5])\n",
        "\n",
        "print(list123[-10:-5])     #negative indaxing\n",
        "\n",
        "print(list123[1:5:2])\n",
        "\n",
        "print(list123[::-1])        #it reverse the list"
      ],
      "metadata": {
        "colab": {
          "base_uri": "https://localhost:8080/"
        },
        "id": "LjnXBs0Qv45a",
        "outputId": "b5520577-29dc-4bfd-8423-a7800ca59dfe"
      },
      "execution_count": null,
      "outputs": [
        {
          "output_type": "stream",
          "name": "stdout",
          "text": [
            "[1, 2, 3, 4]\n",
            "[2, 3, 4, 5, 6, 7, 8, 9, 0]\n",
            "[1, 2, 3, 4, 5]\n",
            "[1, 2, 3, 4, 5]\n",
            "[2, 4]\n",
            "[0, 9, 8, 7, 6, 5, 4, 3, 2, 1]\n"
          ]
        }
      ]
    },
    {
      "cell_type": "markdown",
      "source": [
        "How to merge two list"
      ],
      "metadata": {
        "id": "B8eLsj3EzZBp"
      }
    },
    {
      "cell_type": "code",
      "source": [
        "#Ist type\n",
        "lst12=[1,2,3,4]\n",
        "lst13=[5,6,7,8]\n",
        "lst14=lst12+lst13\n",
        "print(lst14)\n",
        "\n",
        "#2nd type\n",
        "lst12.extend(lst13)\n",
        "print(lst12)\n",
        "\n",
        "#3rd type\n",
        "lst14=[1,2,3,4]\n",
        "lst15=[5,6,7,8]\n",
        "for i in range(len(lst15)):\n",
        "  lst14.append(lst15[i])\n",
        "print(lst14)"
      ],
      "metadata": {
        "colab": {
          "base_uri": "https://localhost:8080/"
        },
        "id": "Y3zkaW6w1QD6",
        "outputId": "4001d5ef-ce1e-411d-e7ec-ca2a586b7fdc"
      },
      "execution_count": null,
      "outputs": [
        {
          "output_type": "stream",
          "name": "stdout",
          "text": [
            "[1, 2, 3, 4, 5, 6, 7, 8]\n",
            "[1, 2, 3, 4, 5, 6, 7, 8]\n",
            "[1, 2, 3, 4, 5, 6, 7, 8]\n"
          ]
        }
      ]
    },
    {
      "cell_type": "markdown",
      "source": [
        "List with String"
      ],
      "metadata": {
        "id": "n6esx3Dt3VVj"
      }
    },
    {
      "cell_type": "code",
      "source": [
        "#String to list\n",
        "xyz=\"Hiii Everyone i hope today is a good day for you\"\n",
        "Z=xyz.split()\n",
        "print(type(Z))\n",
        "print(Z)"
      ],
      "metadata": {
        "colab": {
          "base_uri": "https://localhost:8080/"
        },
        "id": "_kESGNux3YZg",
        "outputId": "01519943-0b9d-4cf8-91b7-402c49566ce6"
      },
      "execution_count": null,
      "outputs": [
        {
          "output_type": "stream",
          "name": "stdout",
          "text": [
            "<class 'list'>\n",
            "['Hiii', 'Everyone', 'i', 'hope', 'today', 'is', 'a', 'good', 'day', 'for', 'you']\n"
          ]
        }
      ]
    },
    {
      "cell_type": "code",
      "source": [
        "#list to string\n",
        "str1=\"\".join(Z)\n",
        "print(str1)"
      ],
      "metadata": {
        "colab": {
          "base_uri": "https://localhost:8080/"
        },
        "id": "jkEGUT3R4Zy3",
        "outputId": "6f10bda5-f8f2-4c57-ab3b-7a1ee4aa5395"
      },
      "execution_count": null,
      "outputs": [
        {
          "output_type": "stream",
          "name": "stdout",
          "text": [
            "HiiiEveryoneihopetodayisagooddayforyou\n"
          ]
        }
      ]
    },
    {
      "cell_type": "markdown",
      "source": [
        "**List Comprehension**\n",
        "\n",
        "Q:-Based on a list of fruits, you want a new list, containing only the fruits with the letter \"a\" in the name."
      ],
      "metadata": {
        "id": "FlnK6L8O7Lh5"
      }
    },
    {
      "cell_type": "code",
      "source": [
        "#without list comprehension\n",
        "list1=[\"Banana\",\"apple\",\"Mango\",\"Kivi\"]\n",
        "list2=[]\n",
        "for i in range(len(list1)):\n",
        "  if \"a\" in list1[i]:\n",
        "    list2.append(list1[i])\n",
        "print(list2)"
      ],
      "metadata": {
        "colab": {
          "base_uri": "https://localhost:8080/"
        },
        "id": "ujv8hGzI7Ndf",
        "outputId": "ee19e0e0-f5c8-41b0-b83b-5a3433c30e65"
      },
      "execution_count": null,
      "outputs": [
        {
          "output_type": "stream",
          "name": "stdout",
          "text": [
            "['Banana', 'apple', 'Mango']\n"
          ]
        }
      ]
    },
    {
      "cell_type": "code",
      "source": [
        "#with list comprehension\n",
        "list3=[x for x in list1  if \"a\" in x]\n",
        "print(list3)"
      ],
      "metadata": {
        "colab": {
          "base_uri": "https://localhost:8080/"
        },
        "id": "xgdv-5MR8Hwd",
        "outputId": "a4f9f25b-3c0e-415f-f681-75a75eb04069"
      },
      "execution_count": null,
      "outputs": [
        {
          "output_type": "stream",
          "name": "stdout",
          "text": [
            "['Banana', 'apple', 'Mango']\n"
          ]
        }
      ]
    },
    {
      "cell_type": "markdown",
      "source": [
        "# **Some coding problem in Python list**"
      ],
      "metadata": {
        "id": "1WTBx5o284N3"
      }
    },
    {
      "cell_type": "markdown",
      "source": [
        "Q:-Python program to find second largest number in a list"
      ],
      "metadata": {
        "id": "0TvDhwc9UIAy"
      }
    },
    {
      "cell_type": "code",
      "source": [
        "list1=[1,2,8,99,100,6,9,45]\n",
        "lst=list1.copy()\n",
        "xyz=max(list1)\n",
        "lst.remove(xyz)\n",
        "abc=max(lst)\n",
        "print(\"second maximum number is:-\",abc)"
      ],
      "metadata": {
        "id": "FC2vcb_X9A8K",
        "colab": {
          "base_uri": "https://localhost:8080/"
        },
        "outputId": "6091512a-34a4-421a-dbfc-f07af2230257"
      },
      "execution_count": 1,
      "outputs": [
        {
          "output_type": "stream",
          "name": "stdout",
          "text": [
            "second maximum number is:- 99\n"
          ]
        }
      ]
    },
    {
      "cell_type": "markdown",
      "source": [
        "Q:-Python program to count Even and Odd numbers in a List"
      ],
      "metadata": {
        "id": "vmMwUPDIVyr5"
      }
    },
    {
      "cell_type": "code",
      "source": [
        "list12=[22,23,43,56,49,99,98]\n",
        "odd_count=0\n",
        "even_count=0\n",
        "for x in list12:\n",
        "  if x%2==0:\n",
        "    even_count+=1\n",
        "  else:\n",
        "    odd_count+=1\n",
        "print(\"No of even numbers in list\",even_count)\n",
        "print(\"No of odd numbers in list\",odd_count)\n",
        "\n"
      ],
      "metadata": {
        "colab": {
          "base_uri": "https://localhost:8080/"
        },
        "id": "eHxNgE7eV0eQ",
        "outputId": "15ddc310-ad7d-4dd2-f1c7-87f3d905b27d"
      },
      "execution_count": 2,
      "outputs": [
        {
          "output_type": "stream",
          "name": "stdout",
          "text": [
            "No of even numbers in list 3\n",
            "No of odd numbers in list 4\n"
          ]
        }
      ]
    },
    {
      "cell_type": "markdown",
      "source": [
        "Q:-Python program to check if the list contains three consecutive common numbers"
      ],
      "metadata": {
        "id": "xcVh9QkWX_03"
      }
    },
    {
      "cell_type": "code",
      "source": [
        "list23=[11,11,22,2,2,3,3,3,2]\n",
        "list_count=[]\n",
        "count=1\n",
        "xyz=list23[0]\n",
        "for i in range(1,len(list23)):\n",
        "  abc=list23[i]\n",
        "  if abc==xyz:\n",
        "    count+=1\n",
        "  else:\n",
        "    list_count.append(count)\n",
        "    count=1\n",
        "    xyz=list23[i]\n",
        "if max(list_count)>=3:\n",
        "  print(\"Yes\")\n",
        "else:\n",
        "  print(\"NO\")\n",
        "print(list_count)\n",
        ""
      ],
      "metadata": {
        "colab": {
          "base_uri": "https://localhost:8080/"
        },
        "id": "7pBAAidJYEIO",
        "outputId": "6858933e-b281-439b-ee5f-b15a88126ee3"
      },
      "execution_count": 6,
      "outputs": [
        {
          "output_type": "stream",
          "name": "stdout",
          "text": [
            "Yes\n",
            "[2, 1, 2, 3]\n"
          ]
        }
      ]
    },
    {
      "cell_type": "markdown",
      "source": [
        "Q:-Swap elements in String list\n",
        "ex:-list1=[\"lti\",\"SRS\",\"moto\",\"cat\"]\n",
        "\n",
        "optput=list1=[\"itl\",\"SRS\",\"otom\",\"tac\"]"
      ],
      "metadata": {
        "id": "6bNL56mWdSJr"
      }
    },
    {
      "cell_type": "code",
      "source": [
        "ls1=[\"lti\",\"SRS\",\"moto\",\"cat\"]\n",
        "re_ls1=[]\n",
        "for i in range(len(ls1)):\n",
        "  re_ls1.append(ls1[i][::-1])\n",
        "\n",
        "print(re_ls1)"
      ],
      "metadata": {
        "colab": {
          "base_uri": "https://localhost:8080/"
        },
        "id": "j_GiAY-CevXi",
        "outputId": "0201e2dc-66d4-4cad-938b-bb1a84e75b75"
      },
      "execution_count": 13,
      "outputs": [
        {
          "output_type": "stream",
          "name": "stdout",
          "text": [
            "['itl', 'SRS', 'otom', 'tac']\n"
          ]
        }
      ]
    }
  ]
}